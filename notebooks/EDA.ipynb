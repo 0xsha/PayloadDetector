{
 "cells": [
  {
   "cell_type": "code",
   "execution_count": 1,
   "metadata": {
    "collapsed": true,
    "pycharm": {
     "name": "#%%\n"
    }
   },
   "outputs": [],
   "source": [
    "import pandas as pd\n",
    "import matplotlib.pyplot as plt\n",
    "%matplotlib inline\n",
    "import seaborn as sns\n"
   ]
  },
  {
   "cell_type": "code",
   "execution_count": 2,
   "outputs": [
    {
     "data": {
      "text/plain": "                                             payload      category\n0  http:3H6k7lIAiqjfNeN@00330.00072.0000326.00000316  openredirect\n1                 /https:///www.google.com/%2f%2e%2e  openredirect\n2                                          15365381r         clean\n3                        /https://example.com/%2e%2e  openredirect\n4        <input2 onpointerdown=alert(1)>XSS</input2>           xss",
      "text/html": "<div>\n<style scoped>\n    .dataframe tbody tr th:only-of-type {\n        vertical-align: middle;\n    }\n\n    .dataframe tbody tr th {\n        vertical-align: top;\n    }\n\n    .dataframe thead th {\n        text-align: right;\n    }\n</style>\n<table border=\"1\" class=\"dataframe\">\n  <thead>\n    <tr style=\"text-align: right;\">\n      <th></th>\n      <th>payload</th>\n      <th>category</th>\n    </tr>\n  </thead>\n  <tbody>\n    <tr>\n      <th>0</th>\n      <td>http:3H6k7lIAiqjfNeN@00330.00072.0000326.00000316</td>\n      <td>openredirect</td>\n    </tr>\n    <tr>\n      <th>1</th>\n      <td>/https:///www.google.com/%2f%2e%2e</td>\n      <td>openredirect</td>\n    </tr>\n    <tr>\n      <th>2</th>\n      <td>15365381r</td>\n      <td>clean</td>\n    </tr>\n    <tr>\n      <th>3</th>\n      <td>/https://example.com/%2e%2e</td>\n      <td>openredirect</td>\n    </tr>\n    <tr>\n      <th>4</th>\n      <td>&lt;input2 onpointerdown=alert(1)&gt;XSS&lt;/input2&gt;</td>\n      <td>xss</td>\n    </tr>\n  </tbody>\n</table>\n</div>"
     },
     "execution_count": 2,
     "metadata": {},
     "output_type": "execute_result"
    }
   ],
   "source": [
    "data_frame = pd.read_csv(\"../data/final/final_sampled.csv\")\n",
    "data_frame.head()"
   ],
   "metadata": {
    "collapsed": false,
    "pycharm": {
     "name": "#%%\n"
    }
   }
  },
  {
   "cell_type": "code",
   "execution_count": 3,
   "outputs": [
    {
     "data": {
      "text/plain": "payload      True\ncategory    False\ndtype: bool"
     },
     "execution_count": 3,
     "metadata": {},
     "output_type": "execute_result"
    }
   ],
   "source": [
    "data_frame.isnull().any()"
   ],
   "metadata": {
    "collapsed": false,
    "pycharm": {
     "name": "#%%\n"
    }
   }
  },
  {
   "cell_type": "code",
   "execution_count": 4,
   "outputs": [
    {
     "data": {
      "text/plain": "payload     0\ncategory    0\ndtype: int64"
     },
     "execution_count": 4,
     "metadata": {},
     "output_type": "execute_result"
    }
   ],
   "source": [
    "data_frame.dropna(inplace=True)\n",
    "data_frame.isnull().sum()"
   ],
   "metadata": {
    "collapsed": false,
    "pycharm": {
     "name": "#%%\n"
    }
   }
  },
  {
   "cell_type": "code",
   "execution_count": 16,
   "outputs": [],
   "source": [
    "total_data = data_frame[\"payload\"].count()\n",
    "\n",
    "total_injection = data_frame[\"category\"].where(data_frame[\"category\"]==\"injection\").count()\n",
    "total_ldf_lfi = data_frame[\"category\"].where(data_frame[\"category\"]==\"lfi-ldf\").count()\n",
    "total_rce = data_frame[\"category\"].where(data_frame[\"category\"]==\"rce\").count()\n",
    "total_openredirect = data_frame[\"category\"].where(data_frame[\"category\"]==\"openredirect\").count()\n",
    "total_xss = data_frame[\"category\"].where(data_frame[\"category\"]==\"xss\").count()\n",
    "total_xxe = data_frame[\"category\"].where(data_frame[\"category\"]==\"xxe\").count()\n",
    "total_deserialize = data_frame[\"category\"].where(data_frame[\"category\"]==\"deserialize\").count()\n",
    "total_crlf = data_frame[\"category\"].where(data_frame[\"category\"]==\"crlf\").count()\n",
    "\n",
    "total_malicious = total_xxe + total_xss + total_crlf + total_openredirect + total_injection + total_rce + total_injection + total_ldf_lfi\n",
    "total_clean = data_frame[\"category\"].where(data_frame[\"category\"]==\"clean\").count()\n",
    "\n",
    "#data_frame[\"category\"].unique()\n",
    "sizes = []\n",
    "sizes.append([total_clean, total_ldf_lfi , total_xss , total_injection , total_rce ,  total_openredirect , total_crlf , total_xxe ,total_deserialize])"
   ],
   "metadata": {
    "collapsed": false,
    "pycharm": {
     "name": "#%%\n"
    }
   }
  },
  {
   "cell_type": "code",
   "execution_count": 17,
   "outputs": [
    {
     "data": {
      "text/plain": "<Figure size 432x288 with 1 Axes>",
      "image/png": "[encoded data removed]"
     },
     "metadata": {},
     "output_type": "display_data"
    }
   ],
   "source": [
    "lables = data_frame[\"category\"].unique().tolist()\n",
    "\n",
    "_, cat_dis = plt.subplots()\n",
    "cat_dis.pie(sizes[0],  labels=lables, autopct='%1.1f%%',\n",
    "        shadow=True, radius=1.2, startangle=90)\n",
    "cat_dis.axis('equal')\n",
    "\n",
    "plt.tight_layout()\n",
    "plt.show()"
   ],
   "metadata": {
    "collapsed": false,
    "pycharm": {
     "name": "#%%\n"
    }
   }
  },
  {
   "cell_type": "code",
   "execution_count": 160,
   "outputs": [
    {
     "data": {
      "text/plain": "                                                  payload category\n137421                                                cm.    clean\n115282                                               pion    clean\n8554                                              Mattson    clean\n81691       %c0%5e%c0%5e0x2f%c0%5e%c0%5e0x2fetc0x2fpasswd  lfi-ldf\n137179                                        reliability    clean\n140363  0x2e0x2e%c1%pc0x2e0x2e%c1%pc0x2e0x2e%c1%pc0x2e...  lfi-ldf\n134518                                       obsolescence    clean\n101819        %252e%252e/%252e%252e/%252e%252e/etc/passwd  lfi-ldf\n38533   %fc%80%80%80%80%ae%fc%80%80%80%80%ae\\%fc%80%80...  lfi-ldf\n99997                                               bombs    clean",
      "text/html": "<div>\n<style scoped>\n    .dataframe tbody tr th:only-of-type {\n        vertical-align: middle;\n    }\n\n    .dataframe tbody tr th {\n        vertical-align: top;\n    }\n\n    .dataframe thead th {\n        text-align: right;\n    }\n</style>\n<table border=\"1\" class=\"dataframe\">\n  <thead>\n    <tr style=\"text-align: right;\">\n      <th></th>\n      <th>payload</th>\n      <th>category</th>\n    </tr>\n  </thead>\n  <tbody>\n    <tr>\n      <th>137421</th>\n      <td>cm.</td>\n      <td>clean</td>\n    </tr>\n    <tr>\n      <th>115282</th>\n      <td>pion</td>\n      <td>clean</td>\n    </tr>\n    <tr>\n      <th>8554</th>\n      <td>Mattson</td>\n      <td>clean</td>\n    </tr>\n    <tr>\n      <th>81691</th>\n      <td>%c0%5e%c0%5e0x2f%c0%5e%c0%5e0x2fetc0x2fpasswd</td>\n      <td>lfi-ldf</td>\n    </tr>\n    <tr>\n      <th>137179</th>\n      <td>reliability</td>\n      <td>clean</td>\n    </tr>\n    <tr>\n      <th>140363</th>\n      <td>0x2e0x2e%c1%pc0x2e0x2e%c1%pc0x2e0x2e%c1%pc0x2e...</td>\n      <td>lfi-ldf</td>\n    </tr>\n    <tr>\n      <th>134518</th>\n      <td>obsolescence</td>\n      <td>clean</td>\n    </tr>\n    <tr>\n      <th>101819</th>\n      <td>%252e%252e/%252e%252e/%252e%252e/etc/passwd</td>\n      <td>lfi-ldf</td>\n    </tr>\n    <tr>\n      <th>38533</th>\n      <td>%fc%80%80%80%80%ae%fc%80%80%80%80%ae\\%fc%80%80...</td>\n      <td>lfi-ldf</td>\n    </tr>\n    <tr>\n      <th>99997</th>\n      <td>bombs</td>\n      <td>clean</td>\n    </tr>\n  </tbody>\n</table>\n</div>"
     },
     "execution_count": 160,
     "metadata": {},
     "output_type": "execute_result"
    }
   ],
   "source": [
    "data_frame.sample(n=10)"
   ],
   "metadata": {
    "collapsed": false,
    "pycharm": {
     "name": "#%%\n"
    }
   }
  },
  {
   "cell_type": "code",
   "execution_count": 161,
   "outputs": [
    {
     "data": {
      "text/plain": "                                                  payload   category\n76712                                        which netcat        rce\n65768                                                Tiny      clean\n58265                                               40240      clean\n101051  eitttxdesslsex=2c4b5l&samaily=7632669&sbnullxa...      clean\n585     /%252e%252e%255c%252e%252e%255c%252e%252e%255c...    lfi-ldf\n36454   1%';select case when 7717=7717 then 1 else nul...  injection\n91075                                    3020134133888315      clean\n55821                        make_set(8734=8734,sleep(5))  injection\n133188  .../.0x5c.../.0x5c.../.0x5c.../.0x5c.../.0x5ce...    lfi-ldf\n138071  hbvhrdq=894838&tzememl=610585&gsoia=ti9dwuy3yb...    lfi-ldf",
      "text/html": "<div>\n<style scoped>\n    .dataframe tbody tr th:only-of-type {\n        vertical-align: middle;\n    }\n\n    .dataframe tbody tr th {\n        vertical-align: top;\n    }\n\n    .dataframe thead th {\n        text-align: right;\n    }\n</style>\n<table border=\"1\" class=\"dataframe\">\n  <thead>\n    <tr style=\"text-align: right;\">\n      <th></th>\n      <th>payload</th>\n      <th>category</th>\n    </tr>\n  </thead>\n  <tbody>\n    <tr>\n      <th>76712</th>\n      <td>which netcat</td>\n      <td>rce</td>\n    </tr>\n    <tr>\n      <th>65768</th>\n      <td>Tiny</td>\n      <td>clean</td>\n    </tr>\n    <tr>\n      <th>58265</th>\n      <td>40240</td>\n      <td>clean</td>\n    </tr>\n    <tr>\n      <th>101051</th>\n      <td>eitttxdesslsex=2c4b5l&amp;samaily=7632669&amp;sbnullxa...</td>\n      <td>clean</td>\n    </tr>\n    <tr>\n      <th>585</th>\n      <td>/%252e%252e%255c%252e%252e%255c%252e%252e%255c...</td>\n      <td>lfi-ldf</td>\n    </tr>\n    <tr>\n      <th>36454</th>\n      <td>1%';select case when 7717=7717 then 1 else nul...</td>\n      <td>injection</td>\n    </tr>\n    <tr>\n      <th>91075</th>\n      <td>3020134133888315</td>\n      <td>clean</td>\n    </tr>\n    <tr>\n      <th>55821</th>\n      <td>make_set(8734=8734,sleep(5))</td>\n      <td>injection</td>\n    </tr>\n    <tr>\n      <th>133188</th>\n      <td>.../.0x5c.../.0x5c.../.0x5c.../.0x5c.../.0x5ce...</td>\n      <td>lfi-ldf</td>\n    </tr>\n    <tr>\n      <th>138071</th>\n      <td>hbvhrdq=894838&amp;tzememl=610585&amp;gsoia=ti9dwuy3yb...</td>\n      <td>lfi-ldf</td>\n    </tr>\n  </tbody>\n</table>\n</div>"
     },
     "execution_count": 161,
     "metadata": {},
     "output_type": "execute_result"
    }
   ],
   "source": [
    "data_frame.sample(n=10)"
   ],
   "metadata": {
    "collapsed": false,
    "pycharm": {
     "name": "#%%\n"
    }
   }
  },
  {
   "cell_type": "code",
   "execution_count": 162,
   "outputs": [
    {
     "data": {
      "text/plain": "                                                  payload   category\n11019   iwgetxv4=216&7oeduea2cpns=|echo \" content-type...        rce\n44238   %%32%%65%%32%%650x5c%%32%%65%%32%%650x5c%%32%%...    lfi-ldf\n108034                                             Teruel      clean\n57366   <basefont id=x tabindex=1 ondeactivate=print()...        xss\n14372                <a2 onmousedown=\"alert(1)\">test</a2>        xss\n140605  .%2e%c0%5c.%2e%c0%5c.%2e%c0%5c.%2e%c0%5c.%2e%c...    lfi-ldf\n142643         /lr@ahlh9f1/hftuziaf6ajs43/shankmhvoo.aspx      clean\n125146  1%'))) or 2367=(select count(*) from rdb$field...  injection\n75335                                              Adonay      clean\n27936                                                init      clean",
      "text/html": "<div>\n<style scoped>\n    .dataframe tbody tr th:only-of-type {\n        vertical-align: middle;\n    }\n\n    .dataframe tbody tr th {\n        vertical-align: top;\n    }\n\n    .dataframe thead th {\n        text-align: right;\n    }\n</style>\n<table border=\"1\" class=\"dataframe\">\n  <thead>\n    <tr style=\"text-align: right;\">\n      <th></th>\n      <th>payload</th>\n      <th>category</th>\n    </tr>\n  </thead>\n  <tbody>\n    <tr>\n      <th>11019</th>\n      <td>iwgetxv4=216&amp;7oeduea2cpns=|echo \" content-type...</td>\n      <td>rce</td>\n    </tr>\n    <tr>\n      <th>44238</th>\n      <td>%%32%%65%%32%%650x5c%%32%%65%%32%%650x5c%%32%%...</td>\n      <td>lfi-ldf</td>\n    </tr>\n    <tr>\n      <th>108034</th>\n      <td>Teruel</td>\n      <td>clean</td>\n    </tr>\n    <tr>\n      <th>57366</th>\n      <td>&lt;basefont id=x tabindex=1 ondeactivate=print()...</td>\n      <td>xss</td>\n    </tr>\n    <tr>\n      <th>14372</th>\n      <td>&lt;a2 onmousedown=\"alert(1)\"&gt;test&lt;/a2&gt;</td>\n      <td>xss</td>\n    </tr>\n    <tr>\n      <th>140605</th>\n      <td>.%2e%c0%5c.%2e%c0%5c.%2e%c0%5c.%2e%c0%5c.%2e%c...</td>\n      <td>lfi-ldf</td>\n    </tr>\n    <tr>\n      <th>142643</th>\n      <td>/lr@ahlh9f1/hftuziaf6ajs43/shankmhvoo.aspx</td>\n      <td>clean</td>\n    </tr>\n    <tr>\n      <th>125146</th>\n      <td>1%'))) or 2367=(select count(*) from rdb$field...</td>\n      <td>injection</td>\n    </tr>\n    <tr>\n      <th>75335</th>\n      <td>Adonay</td>\n      <td>clean</td>\n    </tr>\n    <tr>\n      <th>27936</th>\n      <td>init</td>\n      <td>clean</td>\n    </tr>\n  </tbody>\n</table>\n</div>"
     },
     "execution_count": 162,
     "metadata": {},
     "output_type": "execute_result"
    }
   ],
   "source": [
    "data_frame.sample(n=10)"
   ],
   "metadata": {
    "collapsed": false,
    "pycharm": {
     "name": "#%%\n"
    }
   }
  },
  {
   "cell_type": "code",
   "execution_count": 19,
   "outputs": [],
   "source": [
    "payload_lengths = []\n",
    "def get_payload_length(s):\n",
    "        payload_lengths.append(len(s))\n",
    "        return s\n"
   ],
   "metadata": {
    "collapsed": false,
    "pycharm": {
     "name": "#%%\n"
    }
   }
  },
  {
   "cell_type": "code",
   "execution_count": 20,
   "outputs": [
    {
     "data": {
      "text/plain": "<seaborn.axisgrid.FacetGrid at 0x7fb0e8e4eb80>"
     },
     "execution_count": 20,
     "metadata": {},
     "output_type": "execute_result"
    },
    {
     "data": {
      "text/plain": "<Figure size 360x360 with 1 Axes>",
      "image/png": "[encoded data removed]"
     },
     "metadata": {
      "needs_background": "light"
     },
     "output_type": "display_data"
    }
   ],
   "source": [
    "#plot length distribution\n",
    "data_frame[\"payload\"].apply(get_payload_length)\n",
    "payload_lengths = list(set(payload_lengths))\n",
    "\n",
    "sns.displot(payload_lengths)"
   ],
   "metadata": {
    "collapsed": false,
    "pycharm": {
     "name": "#%%\n"
    }
   }
  },
  {
   "cell_type": "code",
   "execution_count": 211,
   "outputs": [
    {
     "data": {
      "text/plain": "19788"
     },
     "execution_count": 211,
     "metadata": {},
     "output_type": "execute_result"
    }
   ],
   "source": [
    "#max_payload_length\n",
    "max(payload_lengths)\n"
   ],
   "metadata": {
    "collapsed": false,
    "pycharm": {
     "name": "#%%\n"
    }
   }
  }
 ],
 "metadata": {
  "kernelspec": {
   "display_name": "Python 3",
   "language": "python",
   "name": "python3"
  },
  "language_info": {
   "codemirror_mode": {
    "name": "ipython",
    "version": 2
   },
   "file_extension": ".py",
   "mimetype": "text/x-python",
   "name": "python",
   "nbconvert_exporter": "python",
   "pygments_lexer": "ipython2",
   "version": "2.7.6"
  }
 },
 "nbformat": 4,
 "nbformat_minor": 0
}